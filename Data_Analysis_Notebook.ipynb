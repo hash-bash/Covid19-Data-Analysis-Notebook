{
 "cells": [
  {
   "cell_type": "markdown",
   "metadata": {},
   "source": [
    "# Covid19 Data Analysis using DataFrame\n",
    "\n",
    "Tasks to be covered:\n",
    "\n",
    "  1. Make a dataframe 'df' out of covid_19_india.csv dataset\n",
    "  2. Drop the irrelevant columns\n",
    "  3. Find the active patients and add a columns 'Active' to the dataframe\n",
    "  4. Find the state having current maximum Active patient and noof active patients\n",
    "  5. Find the state having current minimum Active patient and noof active patients\n",
    "  6. Find the current Deaths to Cured ratio then find the states having minimum and maximum ratios\n",
    "  7. Take two states Delhi and Maharashtra. Plot 'Cured', 'Deaths' and 'Active' parameters over the Date and infer meaning from the curves. Give a comparision of both the plots"
   ]
  },
  {
   "cell_type": "code",
   "execution_count": 1,
   "metadata": {},
   "outputs": [],
   "source": [
    "import numpy as np\n",
    "import pandas as pd\n",
    "import matplotlib.pyplot as plt"
   ]
  },
  {
   "cell_type": "code",
   "execution_count": 2,
   "metadata": {},
   "outputs": [],
   "source": [
    "# ( Task ) Make a dataframe 'df' out of covid_19_india.csv dataset\n",
    "\n",
    "df = pd.read_csv('covid_19_india.csv')"
   ]
  },
  {
   "cell_type": "code",
   "execution_count": 3,
   "metadata": {},
   "outputs": [
    {
     "data": {
      "text/html": [
       "<div>\n",
       "<style scoped>\n",
       "    .dataframe tbody tr th:only-of-type {\n",
       "        vertical-align: middle;\n",
       "    }\n",
       "\n",
       "    .dataframe tbody tr th {\n",
       "        vertical-align: top;\n",
       "    }\n",
       "\n",
       "    .dataframe thead th {\n",
       "        text-align: right;\n",
       "    }\n",
       "</style>\n",
       "<table border=\"1\" class=\"dataframe\">\n",
       "  <thead>\n",
       "    <tr style=\"text-align: right;\">\n",
       "      <th></th>\n",
       "      <th>Sno</th>\n",
       "      <th>Date</th>\n",
       "      <th>Time</th>\n",
       "      <th>State/UnionTerritory</th>\n",
       "      <th>ConfirmedIndianNational</th>\n",
       "      <th>ConfirmedForeignNational</th>\n",
       "      <th>Cured</th>\n",
       "      <th>Deaths</th>\n",
       "      <th>Confirmed</th>\n",
       "      <th>Unnamed: 9</th>\n",
       "    </tr>\n",
       "  </thead>\n",
       "  <tbody>\n",
       "    <tr>\n",
       "      <th>0</th>\n",
       "      <td>1.0</td>\n",
       "      <td>30/01/20</td>\n",
       "      <td>6:00 PM</td>\n",
       "      <td>Kerala</td>\n",
       "      <td>1</td>\n",
       "      <td>0</td>\n",
       "      <td>0.0</td>\n",
       "      <td>0.0</td>\n",
       "      <td>1.0</td>\n",
       "      <td>NaN</td>\n",
       "    </tr>\n",
       "    <tr>\n",
       "      <th>1</th>\n",
       "      <td>2.0</td>\n",
       "      <td>31/01/20</td>\n",
       "      <td>6:00 PM</td>\n",
       "      <td>Kerala</td>\n",
       "      <td>1</td>\n",
       "      <td>0</td>\n",
       "      <td>0.0</td>\n",
       "      <td>0.0</td>\n",
       "      <td>1.0</td>\n",
       "      <td>NaN</td>\n",
       "    </tr>\n",
       "    <tr>\n",
       "      <th>2</th>\n",
       "      <td>3.0</td>\n",
       "      <td>01/02/20</td>\n",
       "      <td>6:00 PM</td>\n",
       "      <td>Kerala</td>\n",
       "      <td>2</td>\n",
       "      <td>0</td>\n",
       "      <td>0.0</td>\n",
       "      <td>0.0</td>\n",
       "      <td>2.0</td>\n",
       "      <td>NaN</td>\n",
       "    </tr>\n",
       "    <tr>\n",
       "      <th>3</th>\n",
       "      <td>4.0</td>\n",
       "      <td>02/02/20</td>\n",
       "      <td>6:00 PM</td>\n",
       "      <td>Kerala</td>\n",
       "      <td>3</td>\n",
       "      <td>0</td>\n",
       "      <td>0.0</td>\n",
       "      <td>0.0</td>\n",
       "      <td>3.0</td>\n",
       "      <td>NaN</td>\n",
       "    </tr>\n",
       "    <tr>\n",
       "      <th>4</th>\n",
       "      <td>5.0</td>\n",
       "      <td>03/02/20</td>\n",
       "      <td>6:00 PM</td>\n",
       "      <td>Kerala</td>\n",
       "      <td>3</td>\n",
       "      <td>0</td>\n",
       "      <td>0.0</td>\n",
       "      <td>0.0</td>\n",
       "      <td>3.0</td>\n",
       "      <td>NaN</td>\n",
       "    </tr>\n",
       "    <tr>\n",
       "      <th>...</th>\n",
       "      <td>...</td>\n",
       "      <td>...</td>\n",
       "      <td>...</td>\n",
       "      <td>...</td>\n",
       "      <td>...</td>\n",
       "      <td>...</td>\n",
       "      <td>...</td>\n",
       "      <td>...</td>\n",
       "      <td>...</td>\n",
       "      <td>...</td>\n",
       "    </tr>\n",
       "    <tr>\n",
       "      <th>4597</th>\n",
       "      <td>4598.0</td>\n",
       "      <td>28/07/20</td>\n",
       "      <td>8:00 AM</td>\n",
       "      <td>Tripura</td>\n",
       "      <td>-</td>\n",
       "      <td>-</td>\n",
       "      <td>2467.0</td>\n",
       "      <td>17.0</td>\n",
       "      <td>4049.0</td>\n",
       "      <td>NaN</td>\n",
       "    </tr>\n",
       "    <tr>\n",
       "      <th>4598</th>\n",
       "      <td>4599.0</td>\n",
       "      <td>28/07/20</td>\n",
       "      <td>8:00 AM</td>\n",
       "      <td>Uttarakhand</td>\n",
       "      <td>-</td>\n",
       "      <td>-</td>\n",
       "      <td>3675.0</td>\n",
       "      <td>66.0</td>\n",
       "      <td>6328.0</td>\n",
       "      <td>NaN</td>\n",
       "    </tr>\n",
       "    <tr>\n",
       "      <th>4599</th>\n",
       "      <td>4600.0</td>\n",
       "      <td>28/07/20</td>\n",
       "      <td>8:00 AM</td>\n",
       "      <td>Uttar Pradesh</td>\n",
       "      <td>-</td>\n",
       "      <td>-</td>\n",
       "      <td>42833.0</td>\n",
       "      <td>1456.0</td>\n",
       "      <td>70493.0</td>\n",
       "      <td>NaN</td>\n",
       "    </tr>\n",
       "    <tr>\n",
       "      <th>4600</th>\n",
       "      <td>4601.0</td>\n",
       "      <td>28/07/20</td>\n",
       "      <td>8:00 AM</td>\n",
       "      <td>West Bengal</td>\n",
       "      <td>-</td>\n",
       "      <td>-</td>\n",
       "      <td>39917.0</td>\n",
       "      <td>1411.0</td>\n",
       "      <td>60830.0</td>\n",
       "      <td>NaN</td>\n",
       "    </tr>\n",
       "    <tr>\n",
       "      <th>4601</th>\n",
       "      <td>NaN</td>\n",
       "      <td>NaN</td>\n",
       "      <td>NaN</td>\n",
       "      <td>NaN</td>\n",
       "      <td>NaN</td>\n",
       "      <td>NaN</td>\n",
       "      <td>NaN</td>\n",
       "      <td>NaN</td>\n",
       "      <td>NaN</td>\n",
       "      <td>NaN</td>\n",
       "    </tr>\n",
       "  </tbody>\n",
       "</table>\n",
       "<p>4602 rows × 10 columns</p>\n",
       "</div>"
      ],
      "text/plain": [
       "         Sno      Date     Time State/UnionTerritory ConfirmedIndianNational  \\\n",
       "0        1.0  30/01/20  6:00 PM               Kerala                       1   \n",
       "1        2.0  31/01/20  6:00 PM               Kerala                       1   \n",
       "2        3.0  01/02/20  6:00 PM               Kerala                       2   \n",
       "3        4.0  02/02/20  6:00 PM               Kerala                       3   \n",
       "4        5.0  03/02/20  6:00 PM               Kerala                       3   \n",
       "...      ...       ...      ...                  ...                     ...   \n",
       "4597  4598.0  28/07/20  8:00 AM              Tripura                       -   \n",
       "4598  4599.0  28/07/20  8:00 AM          Uttarakhand                       -   \n",
       "4599  4600.0  28/07/20  8:00 AM        Uttar Pradesh                       -   \n",
       "4600  4601.0  28/07/20  8:00 AM          West Bengal                       -   \n",
       "4601     NaN       NaN      NaN                  NaN                     NaN   \n",
       "\n",
       "     ConfirmedForeignNational    Cured  Deaths  Confirmed  Unnamed: 9  \n",
       "0                           0      0.0     0.0        1.0         NaN  \n",
       "1                           0      0.0     0.0        1.0         NaN  \n",
       "2                           0      0.0     0.0        2.0         NaN  \n",
       "3                           0      0.0     0.0        3.0         NaN  \n",
       "4                           0      0.0     0.0        3.0         NaN  \n",
       "...                       ...      ...     ...        ...         ...  \n",
       "4597                        -   2467.0    17.0     4049.0         NaN  \n",
       "4598                        -   3675.0    66.0     6328.0         NaN  \n",
       "4599                        -  42833.0  1456.0    70493.0         NaN  \n",
       "4600                        -  39917.0  1411.0    60830.0         NaN  \n",
       "4601                      NaN      NaN     NaN        NaN         NaN  \n",
       "\n",
       "[4602 rows x 10 columns]"
      ]
     },
     "execution_count": 3,
     "metadata": {},
     "output_type": "execute_result"
    }
   ],
   "source": [
    "df"
   ]
  },
  {
   "cell_type": "code",
   "execution_count": 4,
   "metadata": {},
   "outputs": [
    {
     "data": {
      "text/plain": [
       "Index(['Sno', 'Date', 'Time', 'State/UnionTerritory',\n",
       "       'ConfirmedIndianNational', 'ConfirmedForeignNational', 'Cured',\n",
       "       'Deaths', 'Confirmed', 'Unnamed: 9'],\n",
       "      dtype='object')"
      ]
     },
     "execution_count": 4,
     "metadata": {},
     "output_type": "execute_result"
    }
   ],
   "source": [
    "df.columns"
   ]
  },
  {
   "cell_type": "code",
   "execution_count": 5,
   "metadata": {},
   "outputs": [],
   "source": [
    "# ( Task ) Drop the irrelevant columns like 'Sno', 'ConfirmedIndianNational', 'ConfirmedForeignNational', and 'Unnamed: 9'\n",
    "\n",
    "df.drop(['Sno','Time','ConfirmedIndianNational', 'ConfirmedForeignNational', 'Unnamed: 9'], axis =1, inplace = True)"
   ]
  },
  {
   "cell_type": "code",
   "execution_count": 6,
   "metadata": {},
   "outputs": [
    {
     "data": {
      "text/plain": [
       "Index(['Date', 'State/UnionTerritory', 'Cured', 'Deaths', 'Confirmed'], dtype='object')"
      ]
     },
     "execution_count": 6,
     "metadata": {},
     "output_type": "execute_result"
    }
   ],
   "source": [
    "df.columns"
   ]
  },
  {
   "cell_type": "code",
   "execution_count": 7,
   "metadata": {},
   "outputs": [
    {
     "data": {
      "text/html": [
       "<div>\n",
       "<style scoped>\n",
       "    .dataframe tbody tr th:only-of-type {\n",
       "        vertical-align: middle;\n",
       "    }\n",
       "\n",
       "    .dataframe tbody tr th {\n",
       "        vertical-align: top;\n",
       "    }\n",
       "\n",
       "    .dataframe thead th {\n",
       "        text-align: right;\n",
       "    }\n",
       "</style>\n",
       "<table border=\"1\" class=\"dataframe\">\n",
       "  <thead>\n",
       "    <tr style=\"text-align: right;\">\n",
       "      <th></th>\n",
       "      <th>Date</th>\n",
       "      <th>State/UnionTerritory</th>\n",
       "      <th>Cured</th>\n",
       "      <th>Deaths</th>\n",
       "      <th>Confirmed</th>\n",
       "    </tr>\n",
       "  </thead>\n",
       "  <tbody>\n",
       "    <tr>\n",
       "      <th>0</th>\n",
       "      <td>30/01/20</td>\n",
       "      <td>Kerala</td>\n",
       "      <td>0.0</td>\n",
       "      <td>0.0</td>\n",
       "      <td>1.0</td>\n",
       "    </tr>\n",
       "    <tr>\n",
       "      <th>1</th>\n",
       "      <td>31/01/20</td>\n",
       "      <td>Kerala</td>\n",
       "      <td>0.0</td>\n",
       "      <td>0.0</td>\n",
       "      <td>1.0</td>\n",
       "    </tr>\n",
       "    <tr>\n",
       "      <th>2</th>\n",
       "      <td>01/02/20</td>\n",
       "      <td>Kerala</td>\n",
       "      <td>0.0</td>\n",
       "      <td>0.0</td>\n",
       "      <td>2.0</td>\n",
       "    </tr>\n",
       "    <tr>\n",
       "      <th>3</th>\n",
       "      <td>02/02/20</td>\n",
       "      <td>Kerala</td>\n",
       "      <td>0.0</td>\n",
       "      <td>0.0</td>\n",
       "      <td>3.0</td>\n",
       "    </tr>\n",
       "    <tr>\n",
       "      <th>4</th>\n",
       "      <td>03/02/20</td>\n",
       "      <td>Kerala</td>\n",
       "      <td>0.0</td>\n",
       "      <td>0.0</td>\n",
       "      <td>3.0</td>\n",
       "    </tr>\n",
       "    <tr>\n",
       "      <th>...</th>\n",
       "      <td>...</td>\n",
       "      <td>...</td>\n",
       "      <td>...</td>\n",
       "      <td>...</td>\n",
       "      <td>...</td>\n",
       "    </tr>\n",
       "    <tr>\n",
       "      <th>4597</th>\n",
       "      <td>28/07/20</td>\n",
       "      <td>Tripura</td>\n",
       "      <td>2467.0</td>\n",
       "      <td>17.0</td>\n",
       "      <td>4049.0</td>\n",
       "    </tr>\n",
       "    <tr>\n",
       "      <th>4598</th>\n",
       "      <td>28/07/20</td>\n",
       "      <td>Uttarakhand</td>\n",
       "      <td>3675.0</td>\n",
       "      <td>66.0</td>\n",
       "      <td>6328.0</td>\n",
       "    </tr>\n",
       "    <tr>\n",
       "      <th>4599</th>\n",
       "      <td>28/07/20</td>\n",
       "      <td>Uttar Pradesh</td>\n",
       "      <td>42833.0</td>\n",
       "      <td>1456.0</td>\n",
       "      <td>70493.0</td>\n",
       "    </tr>\n",
       "    <tr>\n",
       "      <th>4600</th>\n",
       "      <td>28/07/20</td>\n",
       "      <td>West Bengal</td>\n",
       "      <td>39917.0</td>\n",
       "      <td>1411.0</td>\n",
       "      <td>60830.0</td>\n",
       "    </tr>\n",
       "    <tr>\n",
       "      <th>4601</th>\n",
       "      <td>NaN</td>\n",
       "      <td>NaN</td>\n",
       "      <td>NaN</td>\n",
       "      <td>NaN</td>\n",
       "      <td>NaN</td>\n",
       "    </tr>\n",
       "  </tbody>\n",
       "</table>\n",
       "<p>4602 rows × 5 columns</p>\n",
       "</div>"
      ],
      "text/plain": [
       "          Date State/UnionTerritory    Cured  Deaths  Confirmed\n",
       "0     30/01/20               Kerala      0.0     0.0        1.0\n",
       "1     31/01/20               Kerala      0.0     0.0        1.0\n",
       "2     01/02/20               Kerala      0.0     0.0        2.0\n",
       "3     02/02/20               Kerala      0.0     0.0        3.0\n",
       "4     03/02/20               Kerala      0.0     0.0        3.0\n",
       "...        ...                  ...      ...     ...        ...\n",
       "4597  28/07/20              Tripura   2467.0    17.0     4049.0\n",
       "4598  28/07/20          Uttarakhand   3675.0    66.0     6328.0\n",
       "4599  28/07/20        Uttar Pradesh  42833.0  1456.0    70493.0\n",
       "4600  28/07/20          West Bengal  39917.0  1411.0    60830.0\n",
       "4601       NaN                  NaN      NaN     NaN        NaN\n",
       "\n",
       "[4602 rows x 5 columns]"
      ]
     },
     "execution_count": 7,
     "metadata": {},
     "output_type": "execute_result"
    }
   ],
   "source": [
    "df"
   ]
  },
  {
   "cell_type": "code",
   "execution_count": 8,
   "metadata": {},
   "outputs": [],
   "source": [
    "# ( Task ) Find the active patient and add a columns 'Active' to the dataframe\n",
    "\n",
    "# Active = (Confirmed-(Deaths+Cured))\n",
    "df.loc[:,'Active'] = df['Confirmed'] - (df['Cured']+df['Deaths'])"
   ]
  },
  {
   "cell_type": "code",
   "execution_count": 9,
   "metadata": {},
   "outputs": [
    {
     "data": {
      "text/html": [
       "<div>\n",
       "<style scoped>\n",
       "    .dataframe tbody tr th:only-of-type {\n",
       "        vertical-align: middle;\n",
       "    }\n",
       "\n",
       "    .dataframe tbody tr th {\n",
       "        vertical-align: top;\n",
       "    }\n",
       "\n",
       "    .dataframe thead th {\n",
       "        text-align: right;\n",
       "    }\n",
       "</style>\n",
       "<table border=\"1\" class=\"dataframe\">\n",
       "  <thead>\n",
       "    <tr style=\"text-align: right;\">\n",
       "      <th></th>\n",
       "      <th>Date</th>\n",
       "      <th>State/UnionTerritory</th>\n",
       "      <th>Cured</th>\n",
       "      <th>Deaths</th>\n",
       "      <th>Confirmed</th>\n",
       "      <th>Active</th>\n",
       "    </tr>\n",
       "  </thead>\n",
       "  <tbody>\n",
       "    <tr>\n",
       "      <th>0</th>\n",
       "      <td>30/01/20</td>\n",
       "      <td>Kerala</td>\n",
       "      <td>0.0</td>\n",
       "      <td>0.0</td>\n",
       "      <td>1.0</td>\n",
       "      <td>1.0</td>\n",
       "    </tr>\n",
       "    <tr>\n",
       "      <th>1</th>\n",
       "      <td>31/01/20</td>\n",
       "      <td>Kerala</td>\n",
       "      <td>0.0</td>\n",
       "      <td>0.0</td>\n",
       "      <td>1.0</td>\n",
       "      <td>1.0</td>\n",
       "    </tr>\n",
       "    <tr>\n",
       "      <th>2</th>\n",
       "      <td>01/02/20</td>\n",
       "      <td>Kerala</td>\n",
       "      <td>0.0</td>\n",
       "      <td>0.0</td>\n",
       "      <td>2.0</td>\n",
       "      <td>2.0</td>\n",
       "    </tr>\n",
       "    <tr>\n",
       "      <th>3</th>\n",
       "      <td>02/02/20</td>\n",
       "      <td>Kerala</td>\n",
       "      <td>0.0</td>\n",
       "      <td>0.0</td>\n",
       "      <td>3.0</td>\n",
       "      <td>3.0</td>\n",
       "    </tr>\n",
       "    <tr>\n",
       "      <th>4</th>\n",
       "      <td>03/02/20</td>\n",
       "      <td>Kerala</td>\n",
       "      <td>0.0</td>\n",
       "      <td>0.0</td>\n",
       "      <td>3.0</td>\n",
       "      <td>3.0</td>\n",
       "    </tr>\n",
       "    <tr>\n",
       "      <th>...</th>\n",
       "      <td>...</td>\n",
       "      <td>...</td>\n",
       "      <td>...</td>\n",
       "      <td>...</td>\n",
       "      <td>...</td>\n",
       "      <td>...</td>\n",
       "    </tr>\n",
       "    <tr>\n",
       "      <th>4597</th>\n",
       "      <td>28/07/20</td>\n",
       "      <td>Tripura</td>\n",
       "      <td>2467.0</td>\n",
       "      <td>17.0</td>\n",
       "      <td>4049.0</td>\n",
       "      <td>1565.0</td>\n",
       "    </tr>\n",
       "    <tr>\n",
       "      <th>4598</th>\n",
       "      <td>28/07/20</td>\n",
       "      <td>Uttarakhand</td>\n",
       "      <td>3675.0</td>\n",
       "      <td>66.0</td>\n",
       "      <td>6328.0</td>\n",
       "      <td>2587.0</td>\n",
       "    </tr>\n",
       "    <tr>\n",
       "      <th>4599</th>\n",
       "      <td>28/07/20</td>\n",
       "      <td>Uttar Pradesh</td>\n",
       "      <td>42833.0</td>\n",
       "      <td>1456.0</td>\n",
       "      <td>70493.0</td>\n",
       "      <td>26204.0</td>\n",
       "    </tr>\n",
       "    <tr>\n",
       "      <th>4600</th>\n",
       "      <td>28/07/20</td>\n",
       "      <td>West Bengal</td>\n",
       "      <td>39917.0</td>\n",
       "      <td>1411.0</td>\n",
       "      <td>60830.0</td>\n",
       "      <td>19502.0</td>\n",
       "    </tr>\n",
       "    <tr>\n",
       "      <th>4601</th>\n",
       "      <td>NaN</td>\n",
       "      <td>NaN</td>\n",
       "      <td>NaN</td>\n",
       "      <td>NaN</td>\n",
       "      <td>NaN</td>\n",
       "      <td>NaN</td>\n",
       "    </tr>\n",
       "  </tbody>\n",
       "</table>\n",
       "<p>4602 rows × 6 columns</p>\n",
       "</div>"
      ],
      "text/plain": [
       "          Date State/UnionTerritory    Cured  Deaths  Confirmed   Active\n",
       "0     30/01/20               Kerala      0.0     0.0        1.0      1.0\n",
       "1     31/01/20               Kerala      0.0     0.0        1.0      1.0\n",
       "2     01/02/20               Kerala      0.0     0.0        2.0      2.0\n",
       "3     02/02/20               Kerala      0.0     0.0        3.0      3.0\n",
       "4     03/02/20               Kerala      0.0     0.0        3.0      3.0\n",
       "...        ...                  ...      ...     ...        ...      ...\n",
       "4597  28/07/20              Tripura   2467.0    17.0     4049.0   1565.0\n",
       "4598  28/07/20          Uttarakhand   3675.0    66.0     6328.0   2587.0\n",
       "4599  28/07/20        Uttar Pradesh  42833.0  1456.0    70493.0  26204.0\n",
       "4600  28/07/20          West Bengal  39917.0  1411.0    60830.0  19502.0\n",
       "4601       NaN                  NaN      NaN     NaN        NaN      NaN\n",
       "\n",
       "[4602 rows x 6 columns]"
      ]
     },
     "execution_count": 9,
     "metadata": {},
     "output_type": "execute_result"
    }
   ],
   "source": [
    "df"
   ]
  },
  {
   "cell_type": "code",
   "execution_count": 10,
   "metadata": {},
   "outputs": [
    {
     "data": {
      "text/plain": [
       "(4602, 6)"
      ]
     },
     "execution_count": 10,
     "metadata": {},
     "output_type": "execute_result"
    }
   ],
   "source": [
    "df.shape"
   ]
  },
  {
   "cell_type": "code",
   "execution_count": 11,
   "metadata": {},
   "outputs": [],
   "source": [
    "df1 = df[df['Date']=='28/07/20']"
   ]
  },
  {
   "cell_type": "code",
   "execution_count": 12,
   "metadata": {},
   "outputs": [
    {
     "data": {
      "text/plain": [
       "(35, 6)"
      ]
     },
     "execution_count": 12,
     "metadata": {},
     "output_type": "execute_result"
    }
   ],
   "source": [
    "df1.shape"
   ]
  },
  {
   "cell_type": "code",
   "execution_count": 13,
   "metadata": {},
   "outputs": [
    {
     "data": {
      "text/plain": [
       "4585    Maharashtra\n",
       "Name: State/UnionTerritory, dtype: object"
      ]
     },
     "execution_count": 13,
     "metadata": {},
     "output_type": "execute_result"
    }
   ],
   "source": [
    "# ( Task ) Find the state having current maximum Active patient and noof active patients\n",
    "\n",
    "df1[df1['Active'].max()==df1['Active']]['State/UnionTerritory']"
   ]
  },
  {
   "cell_type": "code",
   "execution_count": 14,
   "metadata": {},
   "outputs": [
    {
     "data": {
      "text/plain": [
       "147896.0"
      ]
     },
     "execution_count": 14,
     "metadata": {},
     "output_type": "execute_result"
    }
   ],
   "source": [
    "df1['Active'].max()"
   ]
  },
  {
   "cell_type": "code",
   "execution_count": 15,
   "metadata": {},
   "outputs": [
    {
     "data": {
      "text/plain": [
       "4585    Maharashtra\n",
       "Name: State/UnionTerritory, dtype: object"
      ]
     },
     "execution_count": 15,
     "metadata": {},
     "output_type": "execute_result"
    }
   ],
   "source": [
    "df1[df1['Active']==147896.0]['State/UnionTerritory']"
   ]
  },
  {
   "cell_type": "code",
   "execution_count": 16,
   "metadata": {},
   "outputs": [
    {
     "data": {
      "text/plain": [
       "4566    Andaman and Nicobar Islands\n",
       "Name: State/UnionTerritory, dtype: object"
      ]
     },
     "execution_count": 16,
     "metadata": {},
     "output_type": "execute_result"
    }
   ],
   "source": [
    "# ( Task ) Find the state having current minimum Active patient and noof active patients\n",
    "\n",
    "df1[df1['Active'].min()==df1['Active']]['State/UnionTerritory']"
   ]
  },
  {
   "cell_type": "code",
   "execution_count": 17,
   "metadata": {},
   "outputs": [
    {
     "data": {
      "text/plain": [
       "145.0"
      ]
     },
     "execution_count": 17,
     "metadata": {},
     "output_type": "execute_result"
    }
   ],
   "source": [
    "df1['Active'].min()"
   ]
  },
  {
   "cell_type": "code",
   "execution_count": 18,
   "metadata": {},
   "outputs": [
    {
     "data": {
      "text/plain": [
       "4566    Andaman and Nicobar Islands\n",
       "Name: State/UnionTerritory, dtype: object"
      ]
     },
     "execution_count": 18,
     "metadata": {},
     "output_type": "execute_result"
    }
   ],
   "source": [
    "df1[df1['Active']==145.0]['State/UnionTerritory']"
   ]
  },
  {
   "cell_type": "code",
   "execution_count": 19,
   "metadata": {},
   "outputs": [],
   "source": [
    "# ( Task ) Find the current Deaths to Cured ratio in all the states then find the states having minimum and maximum ratios\n",
    "\n",
    "x = df1['Deaths']/(df1['Deaths']+df1['Cured'])"
   ]
  },
  {
   "cell_type": "code",
   "execution_count": 20,
   "metadata": {},
   "outputs": [
    {
     "data": {
      "text/plain": [
       "4566    0.005181\n",
       "4567    0.021521\n",
       "4568    0.005199\n",
       "4569    0.003374\n",
       "4570    0.009106\n",
       "4571    0.023769\n",
       "4572    0.008436\n",
       "4573    0.003534\n",
       "4574    0.032048\n",
       "4575    0.010447\n",
       "4576    0.053696\n",
       "4577    0.015604\n",
       "4578    0.011382\n",
       "4579    0.029936\n",
       "4580    0.023063\n",
       "4581    0.049271\n",
       "4582    0.006233\n",
       "4583    0.003738\n",
       "4584    0.039785\n",
       "4585    0.058869\n",
       "4586    0.000000\n",
       "4587    0.026178\n",
       "4588    0.000000\n",
       "4589    0.008711\n",
       "4590    0.008390\n",
       "4591    0.024390\n",
       "4592    0.033895\n",
       "4593    0.023585\n",
       "4594    0.005714\n",
       "4595    0.021535\n",
       "4596    0.011063\n",
       "4597    0.006844\n",
       "4598    0.017642\n",
       "4599    0.032875\n",
       "4600    0.034142\n",
       "dtype: float64"
      ]
     },
     "execution_count": 20,
     "metadata": {},
     "output_type": "execute_result"
    }
   ],
   "source": [
    "x"
   ]
  },
  {
   "cell_type": "code",
   "execution_count": 21,
   "metadata": {},
   "outputs": [
    {
     "data": {
      "text/plain": [
       "(35,)"
      ]
     },
     "execution_count": 21,
     "metadata": {},
     "output_type": "execute_result"
    }
   ],
   "source": [
    "x.shape"
   ]
  },
  {
   "cell_type": "code",
   "execution_count": 22,
   "metadata": {},
   "outputs": [
    {
     "data": {
      "text/plain": [
       "0.05886942546866983"
      ]
     },
     "execution_count": 22,
     "metadata": {},
     "output_type": "execute_result"
    }
   ],
   "source": [
    "x.max()"
   ]
  },
  {
   "cell_type": "code",
   "execution_count": 23,
   "metadata": {},
   "outputs": [
    {
     "data": {
      "text/plain": [
       "4585    Maharashtra\n",
       "Name: State/UnionTerritory, dtype: object"
      ]
     },
     "execution_count": 23,
     "metadata": {},
     "output_type": "execute_result"
    }
   ],
   "source": [
    "df1[x == x.max()]['State/UnionTerritory']"
   ]
  },
  {
   "cell_type": "code",
   "execution_count": 24,
   "metadata": {},
   "outputs": [
    {
     "data": {
      "text/plain": [
       "0.0"
      ]
     },
     "execution_count": 24,
     "metadata": {},
     "output_type": "execute_result"
    }
   ],
   "source": [
    "x.min()"
   ]
  },
  {
   "cell_type": "code",
   "execution_count": 25,
   "metadata": {},
   "outputs": [
    {
     "data": {
      "text/plain": [
       "4586    Manipur\n",
       "4588    Mizoram\n",
       "Name: State/UnionTerritory, dtype: object"
      ]
     },
     "execution_count": 25,
     "metadata": {},
     "output_type": "execute_result"
    }
   ],
   "source": [
    "df1[x == x.min()]['State/UnionTerritory']"
   ]
  },
  {
   "cell_type": "code",
   "execution_count": 26,
   "metadata": {},
   "outputs": [],
   "source": [
    "# ( Task ) Take any two states namely Delhi and Maharashtra. Plot 'Cured', 'Deaths' and 'Active' parameters over the Date(as independent value) and infer meaning from the curves. Give a comparision of both the plots\n",
    "\n",
    "mh = df[df['State/UnionTerritory']=='Maharashtra']\n",
    "dh = df[df['State/UnionTerritory']=='Delhi']"
   ]
  },
  {
   "cell_type": "code",
   "execution_count": 27,
   "metadata": {},
   "outputs": [
    {
     "data": {
      "text/plain": [
       "((142, 6), (149, 6))"
      ]
     },
     "execution_count": 27,
     "metadata": {},
     "output_type": "execute_result"
    }
   ],
   "source": [
    "mh.shape, dh.shape"
   ]
  },
  {
   "cell_type": "code",
   "execution_count": 28,
   "metadata": {},
   "outputs": [
    {
     "data": {
      "image/png": "[encoded data removed]",
      "text/plain": [
       "<Figure size 432x288 with 1 Axes>"
      ]
     },
     "metadata": {
      "needs_background": "light"
     },
     "output_type": "display_data"
    }
   ],
   "source": [
    "plt.plot(mh['Date'],mh['Cured'] , 'g', label = 'Cured')\n",
    "plt.plot(mh['Date'],mh['Deaths'], 'r', label = 'Death')\n",
    "plt.plot(mh['Date'],mh['Active'], 'b', label = 'Active')\n",
    "plt.legend()\n",
    "plt.xlabel('Date')\n",
    "plt.ylabel('Maharashtra Covid Developement')\n",
    "plt.show()"
   ]
  },
  {
   "cell_type": "code",
   "execution_count": 29,
   "metadata": {},
   "outputs": [
    {
     "data": {
      "image/png": "[encoded data removed]",
      "text/plain": [
       "<Figure size 432x288 with 1 Axes>"
      ]
     },
     "metadata": {
      "needs_background": "light"
     },
     "output_type": "display_data"
    }
   ],
   "source": [
    "plt.plot(dh['Date'],dh['Active'], 'b', label = 'Active')\n",
    "plt.plot(dh['Date'],dh['Cured'] , 'g', label = 'Cured')\n",
    "plt.plot(dh['Date'],dh['Deaths'], 'r', label = 'Death')\n",
    "plt.legend()\n",
    "plt.xlabel('Date')\n",
    "plt.ylabel('Delhi Covid Developement')\n",
    "plt.show()"
   ]
  }
 ],
 "metadata": {
  "kernelspec": {
   "display_name": "Python 3",
   "language": "python",
   "name": "python3"
  },
  "language_info": {
   "codemirror_mode": {
    "name": "ipython",
    "version": 3
   },
   "file_extension": ".py",
   "mimetype": "text/x-python",
   "name": "python",
   "nbconvert_exporter": "python",
   "pygments_lexer": "ipython3",
   "version": "3.8.8"
  }
 },
 "nbformat": 4,
 "nbformat_minor": 4
}
